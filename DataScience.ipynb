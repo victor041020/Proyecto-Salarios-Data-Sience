{
 "cells": [
  {
   "cell_type": "markdown",
   "id": "f577b032",
   "metadata": {},
   "source": [
    "# CONTEXTO Y DESCRIPCIÓN DEL PROBLEMA\n",
    "\n",
    "Este dataset proporciona un panorama detallado sobre salarios y condiciones laborales en el campo de la ciencia de datos, incluyendo tipos de empleo, niveles de experiencia, y ajustes salariales por ubicación geográfica y moneda. Destaca la influencia de la experiencia y el trabajo remoto en las compensaciones, y ofrece insights sobre la distribución global de empleos en la industria. Es una herramienta esencial para analizar tendencias salariales y laborales en la ciencia de datos, útil tanto para profesionales del área como para empleadores."
   ]
  },
  {
   "cell_type": "markdown",
   "id": "aaec52f1",
   "metadata": {},
   "source": [
    "# IMPORTAR LIBRERIA"
   ]
  },
  {
   "cell_type": "code",
   "execution_count": 40,
   "id": "1a3d3a53",
   "metadata": {},
   "outputs": [],
   "source": [
    "import pandas as pd"
   ]
  },
  {
   "cell_type": "markdown",
   "id": "c19f73ba",
   "metadata": {},
   "source": [
    "## CARGA DE DATOS\n",
    "\n",
    "Importamos la libreria Pandas y cargamos la base de datos."
   ]
  },
  {
   "cell_type": "code",
   "execution_count": 7,
   "id": "6a2f8c0f",
   "metadata": {},
   "outputs": [
    {
     "data": {
      "text/html": [
       "<div>\n",
       "<style scoped>\n",
       "    .dataframe tbody tr th:only-of-type {\n",
       "        vertical-align: middle;\n",
       "    }\n",
       "\n",
       "    .dataframe tbody tr th {\n",
       "        vertical-align: top;\n",
       "    }\n",
       "\n",
       "    .dataframe thead th {\n",
       "        text-align: right;\n",
       "    }\n",
       "</style>\n",
       "<table border=\"1\" class=\"dataframe\">\n",
       "  <thead>\n",
       "    <tr style=\"text-align: right;\">\n",
       "      <th></th>\n",
       "      <th>work_year</th>\n",
       "      <th>experience_level</th>\n",
       "      <th>employment_type</th>\n",
       "      <th>job_title</th>\n",
       "      <th>salary</th>\n",
       "      <th>salary_currency</th>\n",
       "      <th>salary_in_usd</th>\n",
       "      <th>employee_residence</th>\n",
       "      <th>remote_ratio</th>\n",
       "      <th>company_location</th>\n",
       "      <th>company_size</th>\n",
       "    </tr>\n",
       "  </thead>\n",
       "  <tbody>\n",
       "    <tr>\n",
       "      <th>0</th>\n",
       "      <td>2023</td>\n",
       "      <td>SE</td>\n",
       "      <td>FT</td>\n",
       "      <td>Principal Data Scientist</td>\n",
       "      <td>80000</td>\n",
       "      <td>EUR</td>\n",
       "      <td>85847</td>\n",
       "      <td>ES</td>\n",
       "      <td>100</td>\n",
       "      <td>ES</td>\n",
       "      <td>L</td>\n",
       "    </tr>\n",
       "    <tr>\n",
       "      <th>1</th>\n",
       "      <td>2023</td>\n",
       "      <td>MI</td>\n",
       "      <td>CT</td>\n",
       "      <td>ML Engineer</td>\n",
       "      <td>30000</td>\n",
       "      <td>USD</td>\n",
       "      <td>30000</td>\n",
       "      <td>US</td>\n",
       "      <td>100</td>\n",
       "      <td>US</td>\n",
       "      <td>S</td>\n",
       "    </tr>\n",
       "    <tr>\n",
       "      <th>2</th>\n",
       "      <td>2023</td>\n",
       "      <td>MI</td>\n",
       "      <td>CT</td>\n",
       "      <td>ML Engineer</td>\n",
       "      <td>25500</td>\n",
       "      <td>USD</td>\n",
       "      <td>25500</td>\n",
       "      <td>US</td>\n",
       "      <td>100</td>\n",
       "      <td>US</td>\n",
       "      <td>S</td>\n",
       "    </tr>\n",
       "    <tr>\n",
       "      <th>3</th>\n",
       "      <td>2023</td>\n",
       "      <td>SE</td>\n",
       "      <td>FT</td>\n",
       "      <td>Data Scientist</td>\n",
       "      <td>175000</td>\n",
       "      <td>USD</td>\n",
       "      <td>175000</td>\n",
       "      <td>CA</td>\n",
       "      <td>100</td>\n",
       "      <td>CA</td>\n",
       "      <td>M</td>\n",
       "    </tr>\n",
       "    <tr>\n",
       "      <th>4</th>\n",
       "      <td>2023</td>\n",
       "      <td>SE</td>\n",
       "      <td>FT</td>\n",
       "      <td>Data Scientist</td>\n",
       "      <td>120000</td>\n",
       "      <td>USD</td>\n",
       "      <td>120000</td>\n",
       "      <td>CA</td>\n",
       "      <td>100</td>\n",
       "      <td>CA</td>\n",
       "      <td>M</td>\n",
       "    </tr>\n",
       "    <tr>\n",
       "      <th>...</th>\n",
       "      <td>...</td>\n",
       "      <td>...</td>\n",
       "      <td>...</td>\n",
       "      <td>...</td>\n",
       "      <td>...</td>\n",
       "      <td>...</td>\n",
       "      <td>...</td>\n",
       "      <td>...</td>\n",
       "      <td>...</td>\n",
       "      <td>...</td>\n",
       "      <td>...</td>\n",
       "    </tr>\n",
       "    <tr>\n",
       "      <th>3750</th>\n",
       "      <td>2020</td>\n",
       "      <td>SE</td>\n",
       "      <td>FT</td>\n",
       "      <td>Data Scientist</td>\n",
       "      <td>412000</td>\n",
       "      <td>USD</td>\n",
       "      <td>412000</td>\n",
       "      <td>US</td>\n",
       "      <td>100</td>\n",
       "      <td>US</td>\n",
       "      <td>L</td>\n",
       "    </tr>\n",
       "    <tr>\n",
       "      <th>3751</th>\n",
       "      <td>2021</td>\n",
       "      <td>MI</td>\n",
       "      <td>FT</td>\n",
       "      <td>Principal Data Scientist</td>\n",
       "      <td>151000</td>\n",
       "      <td>USD</td>\n",
       "      <td>151000</td>\n",
       "      <td>US</td>\n",
       "      <td>100</td>\n",
       "      <td>US</td>\n",
       "      <td>L</td>\n",
       "    </tr>\n",
       "    <tr>\n",
       "      <th>3752</th>\n",
       "      <td>2020</td>\n",
       "      <td>EN</td>\n",
       "      <td>FT</td>\n",
       "      <td>Data Scientist</td>\n",
       "      <td>105000</td>\n",
       "      <td>USD</td>\n",
       "      <td>105000</td>\n",
       "      <td>US</td>\n",
       "      <td>100</td>\n",
       "      <td>US</td>\n",
       "      <td>S</td>\n",
       "    </tr>\n",
       "    <tr>\n",
       "      <th>3753</th>\n",
       "      <td>2020</td>\n",
       "      <td>EN</td>\n",
       "      <td>CT</td>\n",
       "      <td>Business Data Analyst</td>\n",
       "      <td>100000</td>\n",
       "      <td>USD</td>\n",
       "      <td>100000</td>\n",
       "      <td>US</td>\n",
       "      <td>100</td>\n",
       "      <td>US</td>\n",
       "      <td>L</td>\n",
       "    </tr>\n",
       "    <tr>\n",
       "      <th>3754</th>\n",
       "      <td>2021</td>\n",
       "      <td>SE</td>\n",
       "      <td>FT</td>\n",
       "      <td>Data Science Manager</td>\n",
       "      <td>7000000</td>\n",
       "      <td>INR</td>\n",
       "      <td>94665</td>\n",
       "      <td>IN</td>\n",
       "      <td>50</td>\n",
       "      <td>IN</td>\n",
       "      <td>L</td>\n",
       "    </tr>\n",
       "  </tbody>\n",
       "</table>\n",
       "<p>3755 rows × 11 columns</p>\n",
       "</div>"
      ],
      "text/plain": [
       "      work_year experience_level employment_type                 job_title  \\\n",
       "0          2023               SE              FT  Principal Data Scientist   \n",
       "1          2023               MI              CT               ML Engineer   \n",
       "2          2023               MI              CT               ML Engineer   \n",
       "3          2023               SE              FT            Data Scientist   \n",
       "4          2023               SE              FT            Data Scientist   \n",
       "...         ...              ...             ...                       ...   \n",
       "3750       2020               SE              FT            Data Scientist   \n",
       "3751       2021               MI              FT  Principal Data Scientist   \n",
       "3752       2020               EN              FT            Data Scientist   \n",
       "3753       2020               EN              CT     Business Data Analyst   \n",
       "3754       2021               SE              FT      Data Science Manager   \n",
       "\n",
       "       salary salary_currency  salary_in_usd employee_residence  remote_ratio  \\\n",
       "0       80000             EUR          85847                 ES           100   \n",
       "1       30000             USD          30000                 US           100   \n",
       "2       25500             USD          25500                 US           100   \n",
       "3      175000             USD         175000                 CA           100   \n",
       "4      120000             USD         120000                 CA           100   \n",
       "...       ...             ...            ...                ...           ...   \n",
       "3750   412000             USD         412000                 US           100   \n",
       "3751   151000             USD         151000                 US           100   \n",
       "3752   105000             USD         105000                 US           100   \n",
       "3753   100000             USD         100000                 US           100   \n",
       "3754  7000000             INR          94665                 IN            50   \n",
       "\n",
       "     company_location company_size  \n",
       "0                  ES            L  \n",
       "1                  US            S  \n",
       "2                  US            S  \n",
       "3                  CA            M  \n",
       "4                  CA            M  \n",
       "...               ...          ...  \n",
       "3750               US            L  \n",
       "3751               US            L  \n",
       "3752               US            S  \n",
       "3753               US            L  \n",
       "3754               IN            L  \n",
       "\n",
       "[3755 rows x 11 columns]"
      ]
     },
     "execution_count": 7,
     "metadata": {},
     "output_type": "execute_result"
    }
   ],
   "source": [
    "df = pd.read_csv(\"ds_salaries.csv\")\n",
    "df"
   ]
  },
  {
   "cell_type": "markdown",
   "id": "22a715b6",
   "metadata": {},
   "source": [
    "# ANALISIS ESTADISTICO Y CONTEXTUALIZACION\n"
   ]
  },
  {
   "cell_type": "code",
   "execution_count": 10,
   "id": "7aad7e82",
   "metadata": {},
   "outputs": [
    {
     "data": {
      "text/plain": [
       "(3755, 11)"
      ]
     },
     "execution_count": 10,
     "metadata": {},
     "output_type": "execute_result"
    }
   ],
   "source": [
    "df.shape"
   ]
  },
  {
   "cell_type": "code",
   "execution_count": 6,
   "id": "f55c0c9b",
   "metadata": {},
   "outputs": [
    {
     "name": "stdout",
     "output_type": "stream",
     "text": [
      "<class 'pandas.core.frame.DataFrame'>\n",
      "RangeIndex: 3755 entries, 0 to 3754\n",
      "Data columns (total 11 columns):\n",
      " #   Column              Non-Null Count  Dtype \n",
      "---  ------              --------------  ----- \n",
      " 0   work_year           3755 non-null   int64 \n",
      " 1   experience_level    3755 non-null   object\n",
      " 2   employment_type     3755 non-null   object\n",
      " 3   job_title           3755 non-null   object\n",
      " 4   salary              3755 non-null   int64 \n",
      " 5   salary_currency     3755 non-null   object\n",
      " 6   salary_in_usd       3755 non-null   int64 \n",
      " 7   employee_residence  3755 non-null   object\n",
      " 8   remote_ratio        3755 non-null   int64 \n",
      " 9   company_location    3755 non-null   object\n",
      " 10  company_size        3755 non-null   object\n",
      "dtypes: int64(4), object(7)\n",
      "memory usage: 322.8+ KB\n"
     ]
    }
   ],
   "source": [
    "df.info()"
   ]
  },
  {
   "cell_type": "code",
   "execution_count": 25,
   "id": "0ed0194b",
   "metadata": {},
   "outputs": [
    {
     "data": {
      "text/html": [
       "<div>\n",
       "<style scoped>\n",
       "    .dataframe tbody tr th:only-of-type {\n",
       "        vertical-align: middle;\n",
       "    }\n",
       "\n",
       "    .dataframe tbody tr th {\n",
       "        vertical-align: top;\n",
       "    }\n",
       "\n",
       "    .dataframe thead th {\n",
       "        text-align: right;\n",
       "    }\n",
       "</style>\n",
       "<table border=\"1\" class=\"dataframe\">\n",
       "  <thead>\n",
       "    <tr style=\"text-align: right;\">\n",
       "      <th></th>\n",
       "      <th>work_year</th>\n",
       "      <th>salary_in_usd</th>\n",
       "    </tr>\n",
       "  </thead>\n",
       "  <tbody>\n",
       "    <tr>\n",
       "      <th>count</th>\n",
       "      <td>3755.0</td>\n",
       "      <td>3755.0</td>\n",
       "    </tr>\n",
       "    <tr>\n",
       "      <th>mean</th>\n",
       "      <td>2022.0</td>\n",
       "      <td>137570.0</td>\n",
       "    </tr>\n",
       "    <tr>\n",
       "      <th>std</th>\n",
       "      <td>1.0</td>\n",
       "      <td>63056.0</td>\n",
       "    </tr>\n",
       "    <tr>\n",
       "      <th>min</th>\n",
       "      <td>2020.0</td>\n",
       "      <td>5132.0</td>\n",
       "    </tr>\n",
       "    <tr>\n",
       "      <th>25%</th>\n",
       "      <td>2022.0</td>\n",
       "      <td>95000.0</td>\n",
       "    </tr>\n",
       "    <tr>\n",
       "      <th>50%</th>\n",
       "      <td>2022.0</td>\n",
       "      <td>135000.0</td>\n",
       "    </tr>\n",
       "    <tr>\n",
       "      <th>75%</th>\n",
       "      <td>2023.0</td>\n",
       "      <td>175000.0</td>\n",
       "    </tr>\n",
       "    <tr>\n",
       "      <th>max</th>\n",
       "      <td>2023.0</td>\n",
       "      <td>450000.0</td>\n",
       "    </tr>\n",
       "  </tbody>\n",
       "</table>\n",
       "</div>"
      ],
      "text/plain": [
       "       work_year  salary_in_usd\n",
       "count     3755.0         3755.0\n",
       "mean      2022.0       137570.0\n",
       "std          1.0        63056.0\n",
       "min       2020.0         5132.0\n",
       "25%       2022.0        95000.0\n",
       "50%       2022.0       135000.0\n",
       "75%       2023.0       175000.0\n",
       "max       2023.0       450000.0"
      ]
     },
     "execution_count": 25,
     "metadata": {},
     "output_type": "execute_result"
    }
   ],
   "source": [
    "df.describe().round()"
   ]
  },
  {
   "cell_type": "code",
   "execution_count": 14,
   "id": "1ccc7d58",
   "metadata": {},
   "outputs": [
    {
     "data": {
      "text/html": [
       "<div>\n",
       "<style scoped>\n",
       "    .dataframe tbody tr th:only-of-type {\n",
       "        vertical-align: middle;\n",
       "    }\n",
       "\n",
       "    .dataframe tbody tr th {\n",
       "        vertical-align: top;\n",
       "    }\n",
       "\n",
       "    .dataframe thead th {\n",
       "        text-align: right;\n",
       "    }\n",
       "</style>\n",
       "<table border=\"1\" class=\"dataframe\">\n",
       "  <thead>\n",
       "    <tr style=\"text-align: right;\">\n",
       "      <th></th>\n",
       "      <th>work_year</th>\n",
       "      <th>experience_level</th>\n",
       "      <th>employment_type</th>\n",
       "      <th>job_title</th>\n",
       "      <th>salary_in_usd</th>\n",
       "      <th>employee_residence</th>\n",
       "      <th>company_location</th>\n",
       "      <th>company_size</th>\n",
       "    </tr>\n",
       "  </thead>\n",
       "  <tbody>\n",
       "    <tr>\n",
       "      <th>0</th>\n",
       "      <td>2023</td>\n",
       "      <td>Senior level</td>\n",
       "      <td>Full-Time</td>\n",
       "      <td>Principal Data Scientist</td>\n",
       "      <td>85847</td>\n",
       "      <td>ES</td>\n",
       "      <td>ES</td>\n",
       "      <td>Large company</td>\n",
       "    </tr>\n",
       "    <tr>\n",
       "      <th>1</th>\n",
       "      <td>2023</td>\n",
       "      <td>Mid-level</td>\n",
       "      <td>Contract</td>\n",
       "      <td>ML Engineer</td>\n",
       "      <td>30000</td>\n",
       "      <td>US</td>\n",
       "      <td>US</td>\n",
       "      <td>Small company</td>\n",
       "    </tr>\n",
       "    <tr>\n",
       "      <th>2</th>\n",
       "      <td>2023</td>\n",
       "      <td>Mid-level</td>\n",
       "      <td>Contract</td>\n",
       "      <td>ML Engineer</td>\n",
       "      <td>25500</td>\n",
       "      <td>US</td>\n",
       "      <td>US</td>\n",
       "      <td>Small company</td>\n",
       "    </tr>\n",
       "    <tr>\n",
       "      <th>3</th>\n",
       "      <td>2023</td>\n",
       "      <td>Senior level</td>\n",
       "      <td>Full-Time</td>\n",
       "      <td>Data Scientist</td>\n",
       "      <td>175000</td>\n",
       "      <td>CA</td>\n",
       "      <td>CA</td>\n",
       "      <td>Medium company</td>\n",
       "    </tr>\n",
       "    <tr>\n",
       "      <th>4</th>\n",
       "      <td>2023</td>\n",
       "      <td>Senior level</td>\n",
       "      <td>Full-Time</td>\n",
       "      <td>Data Scientist</td>\n",
       "      <td>120000</td>\n",
       "      <td>CA</td>\n",
       "      <td>CA</td>\n",
       "      <td>Medium company</td>\n",
       "    </tr>\n",
       "    <tr>\n",
       "      <th>...</th>\n",
       "      <td>...</td>\n",
       "      <td>...</td>\n",
       "      <td>...</td>\n",
       "      <td>...</td>\n",
       "      <td>...</td>\n",
       "      <td>...</td>\n",
       "      <td>...</td>\n",
       "      <td>...</td>\n",
       "    </tr>\n",
       "    <tr>\n",
       "      <th>3750</th>\n",
       "      <td>2020</td>\n",
       "      <td>Senior level</td>\n",
       "      <td>Full-Time</td>\n",
       "      <td>Data Scientist</td>\n",
       "      <td>412000</td>\n",
       "      <td>US</td>\n",
       "      <td>US</td>\n",
       "      <td>Large company</td>\n",
       "    </tr>\n",
       "    <tr>\n",
       "      <th>3751</th>\n",
       "      <td>2021</td>\n",
       "      <td>Mid-level</td>\n",
       "      <td>Full-Time</td>\n",
       "      <td>Principal Data Scientist</td>\n",
       "      <td>151000</td>\n",
       "      <td>US</td>\n",
       "      <td>US</td>\n",
       "      <td>Large company</td>\n",
       "    </tr>\n",
       "    <tr>\n",
       "      <th>3752</th>\n",
       "      <td>2020</td>\n",
       "      <td>Entry level</td>\n",
       "      <td>Full-Time</td>\n",
       "      <td>Data Scientist</td>\n",
       "      <td>105000</td>\n",
       "      <td>US</td>\n",
       "      <td>US</td>\n",
       "      <td>Small company</td>\n",
       "    </tr>\n",
       "    <tr>\n",
       "      <th>3753</th>\n",
       "      <td>2020</td>\n",
       "      <td>Entry level</td>\n",
       "      <td>Contract</td>\n",
       "      <td>Business Data Analyst</td>\n",
       "      <td>100000</td>\n",
       "      <td>US</td>\n",
       "      <td>US</td>\n",
       "      <td>Large company</td>\n",
       "    </tr>\n",
       "    <tr>\n",
       "      <th>3754</th>\n",
       "      <td>2021</td>\n",
       "      <td>Senior level</td>\n",
       "      <td>Full-Time</td>\n",
       "      <td>Data Science Manager</td>\n",
       "      <td>94665</td>\n",
       "      <td>IN</td>\n",
       "      <td>IN</td>\n",
       "      <td>Large company</td>\n",
       "    </tr>\n",
       "  </tbody>\n",
       "</table>\n",
       "<p>3755 rows × 8 columns</p>\n",
       "</div>"
      ],
      "text/plain": [
       "      work_year experience_level employment_type                 job_title  \\\n",
       "0          2023     Senior level       Full-Time  Principal Data Scientist   \n",
       "1          2023        Mid-level        Contract               ML Engineer   \n",
       "2          2023        Mid-level        Contract               ML Engineer   \n",
       "3          2023     Senior level       Full-Time            Data Scientist   \n",
       "4          2023     Senior level       Full-Time            Data Scientist   \n",
       "...         ...              ...             ...                       ...   \n",
       "3750       2020     Senior level       Full-Time            Data Scientist   \n",
       "3751       2021        Mid-level       Full-Time  Principal Data Scientist   \n",
       "3752       2020      Entry level       Full-Time            Data Scientist   \n",
       "3753       2020      Entry level        Contract     Business Data Analyst   \n",
       "3754       2021     Senior level       Full-Time      Data Science Manager   \n",
       "\n",
       "      salary_in_usd employee_residence company_location    company_size  \n",
       "0             85847                 ES               ES   Large company  \n",
       "1             30000                 US               US   Small company  \n",
       "2             25500                 US               US   Small company  \n",
       "3            175000                 CA               CA  Medium company  \n",
       "4            120000                 CA               CA  Medium company  \n",
       "...             ...                ...              ...             ...  \n",
       "3750         412000                 US               US   Large company  \n",
       "3751         151000                 US               US   Large company  \n",
       "3752         105000                 US               US   Small company  \n",
       "3753         100000                 US               US   Large company  \n",
       "3754          94665                 IN               IN   Large company  \n",
       "\n",
       "[3755 rows x 8 columns]"
      ]
     },
     "execution_count": 14,
     "metadata": {},
     "output_type": "execute_result"
    }
   ],
   "source": [
    "\n",
    "df['experience_level'] = df['experience_level'].replace({'EN': 'Entry level', 'MI': 'Mid-level', 'SE': 'Senior level', 'EX': 'Expert'})\n",
    "\n",
    "\n",
    "df['employment_type'] = df['employment_type'].replace({'FT': 'Full-Time', 'PT': 'Part-Time', 'CT': 'Contract', 'FL': 'Freelance'})\n",
    "\n",
    "\n",
    "df['company_size'] = df['company_size'].replace({'S': 'Small company', 'M': 'Medium company', 'L': 'Large company'})\n",
    "\n",
    "df"
   ]
  },
  {
   "cell_type": "markdown",
   "id": "9326e158",
   "metadata": {},
   "source": [
    "# TRATAMIENTO Y LIMPIEZA\n",
    "\n",
    "En vista de que no hay valores nulos y todos los tipos de datos de las columnas corresponden con su naturaleza y tampoco encontramos nombres en las columnas con espacios, solo vamos a elimnar las columnas que no nos interesan para nuestro analisis.\n"
   ]
  },
  {
   "cell_type": "code",
   "execution_count": 8,
   "id": "4a8b1247",
   "metadata": {},
   "outputs": [
    {
     "data": {
      "text/plain": [
       "Index(['work_year', 'experience_level', 'employment_type', 'job_title',\n",
       "       'salary', 'salary_currency', 'salary_in_usd', 'employee_residence',\n",
       "       'remote_ratio', 'company_location', 'company_size'],\n",
       "      dtype='object')"
      ]
     },
     "execution_count": 8,
     "metadata": {},
     "output_type": "execute_result"
    }
   ],
   "source": [
    "df.columns"
   ]
  },
  {
   "cell_type": "code",
   "execution_count": 11,
   "id": "4a8b6ac5",
   "metadata": {},
   "outputs": [
    {
     "name": "stdout",
     "output_type": "stream",
     "text": [
      "<class 'pandas.core.frame.DataFrame'>\n",
      "RangeIndex: 3755 entries, 0 to 3754\n",
      "Data columns (total 11 columns):\n",
      " #   Column              Non-Null Count  Dtype \n",
      "---  ------              --------------  ----- \n",
      " 0   work_year           3755 non-null   int64 \n",
      " 1   experience_level    3755 non-null   object\n",
      " 2   employment_type     3755 non-null   object\n",
      " 3   job_title           3755 non-null   object\n",
      " 4   salary              3755 non-null   int64 \n",
      " 5   salary_currency     3755 non-null   object\n",
      " 6   salary_in_usd       3755 non-null   int64 \n",
      " 7   employee_residence  3755 non-null   object\n",
      " 8   remote_ratio        3755 non-null   int64 \n",
      " 9   company_location    3755 non-null   object\n",
      " 10  company_size        3755 non-null   object\n",
      "dtypes: int64(4), object(7)\n",
      "memory usage: 322.8+ KB\n"
     ]
    }
   ],
   "source": [
    "df.info()"
   ]
  },
  {
   "cell_type": "code",
   "execution_count": 17,
   "id": "4ab6654e",
   "metadata": {},
   "outputs": [
    {
     "data": {
      "text/html": [
       "<div>\n",
       "<style scoped>\n",
       "    .dataframe tbody tr th:only-of-type {\n",
       "        vertical-align: middle;\n",
       "    }\n",
       "\n",
       "    .dataframe tbody tr th {\n",
       "        vertical-align: top;\n",
       "    }\n",
       "\n",
       "    .dataframe thead th {\n",
       "        text-align: right;\n",
       "    }\n",
       "</style>\n",
       "<table border=\"1\" class=\"dataframe\">\n",
       "  <thead>\n",
       "    <tr style=\"text-align: right;\">\n",
       "      <th></th>\n",
       "      <th>work_year</th>\n",
       "      <th>experience_level</th>\n",
       "      <th>employment_type</th>\n",
       "      <th>job_title</th>\n",
       "      <th>salary_in_usd</th>\n",
       "      <th>employee_residence</th>\n",
       "      <th>company_location</th>\n",
       "      <th>company_size</th>\n",
       "    </tr>\n",
       "  </thead>\n",
       "  <tbody>\n",
       "    <tr>\n",
       "      <th>0</th>\n",
       "      <td>2023</td>\n",
       "      <td>Senior level</td>\n",
       "      <td>Full-Time</td>\n",
       "      <td>Principal Data Scientist</td>\n",
       "      <td>85847</td>\n",
       "      <td>ES</td>\n",
       "      <td>ES</td>\n",
       "      <td>Large company</td>\n",
       "    </tr>\n",
       "    <tr>\n",
       "      <th>1</th>\n",
       "      <td>2023</td>\n",
       "      <td>Mid-level</td>\n",
       "      <td>Contract</td>\n",
       "      <td>ML Engineer</td>\n",
       "      <td>30000</td>\n",
       "      <td>US</td>\n",
       "      <td>US</td>\n",
       "      <td>Small company</td>\n",
       "    </tr>\n",
       "    <tr>\n",
       "      <th>2</th>\n",
       "      <td>2023</td>\n",
       "      <td>Mid-level</td>\n",
       "      <td>Contract</td>\n",
       "      <td>ML Engineer</td>\n",
       "      <td>25500</td>\n",
       "      <td>US</td>\n",
       "      <td>US</td>\n",
       "      <td>Small company</td>\n",
       "    </tr>\n",
       "    <tr>\n",
       "      <th>3</th>\n",
       "      <td>2023</td>\n",
       "      <td>Senior level</td>\n",
       "      <td>Full-Time</td>\n",
       "      <td>Data Scientist</td>\n",
       "      <td>175000</td>\n",
       "      <td>CA</td>\n",
       "      <td>CA</td>\n",
       "      <td>Medium company</td>\n",
       "    </tr>\n",
       "    <tr>\n",
       "      <th>4</th>\n",
       "      <td>2023</td>\n",
       "      <td>Senior level</td>\n",
       "      <td>Full-Time</td>\n",
       "      <td>Data Scientist</td>\n",
       "      <td>120000</td>\n",
       "      <td>CA</td>\n",
       "      <td>CA</td>\n",
       "      <td>Medium company</td>\n",
       "    </tr>\n",
       "    <tr>\n",
       "      <th>...</th>\n",
       "      <td>...</td>\n",
       "      <td>...</td>\n",
       "      <td>...</td>\n",
       "      <td>...</td>\n",
       "      <td>...</td>\n",
       "      <td>...</td>\n",
       "      <td>...</td>\n",
       "      <td>...</td>\n",
       "    </tr>\n",
       "    <tr>\n",
       "      <th>3750</th>\n",
       "      <td>2020</td>\n",
       "      <td>Senior level</td>\n",
       "      <td>Full-Time</td>\n",
       "      <td>Data Scientist</td>\n",
       "      <td>412000</td>\n",
       "      <td>US</td>\n",
       "      <td>US</td>\n",
       "      <td>Large company</td>\n",
       "    </tr>\n",
       "    <tr>\n",
       "      <th>3751</th>\n",
       "      <td>2021</td>\n",
       "      <td>Mid-level</td>\n",
       "      <td>Full-Time</td>\n",
       "      <td>Principal Data Scientist</td>\n",
       "      <td>151000</td>\n",
       "      <td>US</td>\n",
       "      <td>US</td>\n",
       "      <td>Large company</td>\n",
       "    </tr>\n",
       "    <tr>\n",
       "      <th>3752</th>\n",
       "      <td>2020</td>\n",
       "      <td>Entry level</td>\n",
       "      <td>Full-Time</td>\n",
       "      <td>Data Scientist</td>\n",
       "      <td>105000</td>\n",
       "      <td>US</td>\n",
       "      <td>US</td>\n",
       "      <td>Small company</td>\n",
       "    </tr>\n",
       "    <tr>\n",
       "      <th>3753</th>\n",
       "      <td>2020</td>\n",
       "      <td>Entry level</td>\n",
       "      <td>Contract</td>\n",
       "      <td>Business Data Analyst</td>\n",
       "      <td>100000</td>\n",
       "      <td>US</td>\n",
       "      <td>US</td>\n",
       "      <td>Large company</td>\n",
       "    </tr>\n",
       "    <tr>\n",
       "      <th>3754</th>\n",
       "      <td>2021</td>\n",
       "      <td>Senior level</td>\n",
       "      <td>Full-Time</td>\n",
       "      <td>Data Science Manager</td>\n",
       "      <td>94665</td>\n",
       "      <td>IN</td>\n",
       "      <td>IN</td>\n",
       "      <td>Large company</td>\n",
       "    </tr>\n",
       "  </tbody>\n",
       "</table>\n",
       "<p>3755 rows × 8 columns</p>\n",
       "</div>"
      ],
      "text/plain": [
       "      work_year experience_level employment_type                 job_title  \\\n",
       "0          2023     Senior level       Full-Time  Principal Data Scientist   \n",
       "1          2023        Mid-level        Contract               ML Engineer   \n",
       "2          2023        Mid-level        Contract               ML Engineer   \n",
       "3          2023     Senior level       Full-Time            Data Scientist   \n",
       "4          2023     Senior level       Full-Time            Data Scientist   \n",
       "...         ...              ...             ...                       ...   \n",
       "3750       2020     Senior level       Full-Time            Data Scientist   \n",
       "3751       2021        Mid-level       Full-Time  Principal Data Scientist   \n",
       "3752       2020      Entry level       Full-Time            Data Scientist   \n",
       "3753       2020      Entry level        Contract     Business Data Analyst   \n",
       "3754       2021     Senior level       Full-Time      Data Science Manager   \n",
       "\n",
       "      salary_in_usd employee_residence company_location    company_size  \n",
       "0             85847                 ES               ES   Large company  \n",
       "1             30000                 US               US   Small company  \n",
       "2             25500                 US               US   Small company  \n",
       "3            175000                 CA               CA  Medium company  \n",
       "4            120000                 CA               CA  Medium company  \n",
       "...             ...                ...              ...             ...  \n",
       "3750         412000                 US               US   Large company  \n",
       "3751         151000                 US               US   Large company  \n",
       "3752         105000                 US               US   Small company  \n",
       "3753         100000                 US               US   Large company  \n",
       "3754          94665                 IN               IN   Large company  \n",
       "\n",
       "[3755 rows x 8 columns]"
      ]
     },
     "execution_count": 17,
     "metadata": {},
     "output_type": "execute_result"
    }
   ],
   "source": [
    "df"
   ]
  },
  {
   "cell_type": "markdown",
   "id": "cd42d140",
   "metadata": {},
   "source": [
    "# EXTRACCION DE INFORMACION\n"
   ]
  },
  {
   "cell_type": "markdown",
   "id": "fa4dac39",
   "metadata": {},
   "source": [
    "1.\t¿Cómo varía el salario promedio por nivel de experiencia en ciencia de datos?"
   ]
  },
  {
   "cell_type": "code",
   "execution_count": 64,
   "id": "cc0a31cc",
   "metadata": {},
   "outputs": [
    {
     "data": {
      "text/plain": [
       "experience_level\n",
       "Expert          194931.0\n",
       "Senior level    153051.0\n",
       "Mid-level       104526.0\n",
       "Entry level      78546.0\n",
       "Name: salary_in_usd, dtype: float64"
      ]
     },
     "execution_count": 64,
     "metadata": {},
     "output_type": "execute_result"
    }
   ],
   "source": [
    "sal_prom_exp = df.groupby(\"experience_level\")[\"salary_in_usd\"].mean()\n",
    "sal_prom_exp = sal_prom_exp.sort_values(ascending=False)\n",
    "sal_prom_exp.round()"
   ]
  },
  {
   "cell_type": "markdown",
   "id": "7d262352",
   "metadata": {},
   "source": [
    "2.\t¿Cuál es el tipo de empleo más común en la industria de la ciencia de datos?"
   ]
  },
  {
   "cell_type": "code",
   "execution_count": 20,
   "id": "6b5d465a",
   "metadata": {},
   "outputs": [
    {
     "data": {
      "text/plain": [
       "employment_type\n",
       "Full-Time    3718\n",
       "Part-Time      17\n",
       "Contract       10\n",
       "Freelance      10\n",
       "Name: count, dtype: int64"
      ]
     },
     "execution_count": 20,
     "metadata": {},
     "output_type": "execute_result"
    }
   ],
   "source": [
    "df[\"employment_type\"].value_counts()"
   ]
  },
  {
   "cell_type": "markdown",
   "id": "e40bff98",
   "metadata": {},
   "source": [
    "3.\t¿Existe una diferencia significativa en el salario entre empleados a tiempo completo y empleados contratados?"
   ]
  },
  {
   "cell_type": "code",
   "execution_count": 22,
   "id": "94b5bd65",
   "metadata": {},
   "outputs": [
    {
     "data": {
      "text/plain": [
       "employment_type\n",
       "Full-Time    514252194\n",
       "Contract       1134469\n",
       "Part-Time       672073\n",
       "Freelance       518078\n",
       "Name: salary_in_usd, dtype: int64"
      ]
     },
     "execution_count": 22,
     "metadata": {},
     "output_type": "execute_result"
    }
   ],
   "source": [
    "dif_sal_job = df.groupby(\"employment_type\")[\"salary_in_usd\"].sum()\n",
    "dif_sal_job = dif_sal_job.sort_values(ascending=False)\n",
    "dif_sal_job"
   ]
  },
  {
   "cell_type": "markdown",
   "id": "9bb544d6",
   "metadata": {},
   "source": [
    "4.\t¿Qué nivel de experiencia tiende a estar asociado con mayores salarios en la ciencia de datos?"
   ]
  },
  {
   "cell_type": "code",
   "execution_count": 67,
   "id": "d5fe6b50",
   "metadata": {},
   "outputs": [
    {
     "data": {
      "text/plain": [
       "experience_level\n",
       "Senior level    385076496\n",
       "Mid-level        84143381\n",
       "Entry level      25134811\n",
       "Expert           22222126\n",
       "Name: salary_in_usd, dtype: int64"
      ]
     },
     "execution_count": 67,
     "metadata": {},
     "output_type": "execute_result"
    }
   ],
   "source": [
    "max_sal_job = df.groupby(\"experience_level\")[\"salary_in_usd\"].sum()\n",
    "max_sal_job = max_sal_job.sort_values(ascending=False)\n",
    "max_sal_job.head()"
   ]
  },
  {
   "cell_type": "markdown",
   "id": "182bf321",
   "metadata": {},
   "source": [
    "5.\t¿Cuál es la distribución de tamaños de empresa entre los empleadores de ciencia de datos?"
   ]
  },
  {
   "cell_type": "code",
   "execution_count": 26,
   "id": "f3646c3c",
   "metadata": {},
   "outputs": [
    {
     "data": {
      "text/plain": [
       "company_size\n",
       "Medium company    3153\n",
       "Large company      454\n",
       "Small company      148\n",
       "Name: count, dtype: int64"
      ]
     },
     "execution_count": 26,
     "metadata": {},
     "output_type": "execute_result"
    }
   ],
   "source": [
    "df[\"company_size\"].value_counts()"
   ]
  },
  {
   "cell_type": "markdown",
   "id": "8d329e2f",
   "metadata": {},
   "source": [
    "6.\t¿Cómo difieren los salarios promedio entre pequeñas, medianas y grandes empresas en ciencia de datos?"
   ]
  },
  {
   "cell_type": "code",
   "execution_count": 29,
   "id": "3783e7fb",
   "metadata": {},
   "outputs": [
    {
     "data": {
      "text/plain": [
       "company_size\n",
       "Medium company    143130.55\n",
       "Large company     118300.98\n",
       "Small company      78226.68\n",
       "Name: salary_in_usd, dtype: float64"
      ]
     },
     "execution_count": 29,
     "metadata": {},
     "output_type": "execute_result"
    }
   ],
   "source": [
    "dist_comp_sal = df.groupby(\"company_size\")[\"salary_in_usd\"].mean()\n",
    "dist_comp_sal = dist_comp_sal.sort_values(ascending=False)\n",
    "dist_comp_sal.round(2)"
   ]
  },
  {
   "cell_type": "markdown",
   "id": "5173316c",
   "metadata": {},
   "source": [
    "7.\t¿Cuál es la ubicación geográfica más común para empleados y empleadores en la ciencia de datos?\n"
   ]
  },
  {
   "cell_type": "code",
   "execution_count": 47,
   "id": "cc767ec6",
   "metadata": {},
   "outputs": [
    {
     "data": {
      "text/plain": [
       "company_location\n",
       "US    3040\n",
       "GB     172\n",
       "CA      87\n",
       "ES      77\n",
       "IN      58\n",
       "Name: count, dtype: int64"
      ]
     },
     "execution_count": 47,
     "metadata": {},
     "output_type": "execute_result"
    }
   ],
   "source": [
    "ubi_empleado = df[\"company_location\"].value_counts()\n",
    "ubi_empleado.head()"
   ]
  },
  {
   "cell_type": "code",
   "execution_count": 48,
   "id": "f767a6d2",
   "metadata": {},
   "outputs": [
    {
     "data": {
      "text/plain": [
       "employee_residence\n",
       "US    3004\n",
       "GB     167\n",
       "CA      85\n",
       "ES      80\n",
       "IN      71\n",
       "Name: count, dtype: int64"
      ]
     },
     "execution_count": 48,
     "metadata": {},
     "output_type": "execute_result"
    }
   ],
   "source": [
    "ubi_empleador = df[\"employee_residence\"].value_counts()\n",
    "ubi_empleador.head()"
   ]
  },
  {
   "cell_type": "markdown",
   "id": "c259d960",
   "metadata": {},
   "source": [
    "8.\t¿Existe alguna relación entre el nivel de experiencia y el tipo de empleo ofrecido en la industria de la ciencia de datos?"
   ]
  },
  {
   "cell_type": "code",
   "execution_count": 52,
   "id": "46e9b772",
   "metadata": {},
   "outputs": [
    {
     "data": {
      "text/plain": [
       "experience_level  employment_type\n",
       "Senior level      Full-Time          2511\n",
       "Mid-level         Full-Time           792\n",
       "Entry level       Full-Time           302\n",
       "Expert            Full-Time           113\n",
       "Entry level       Part-Time            14\n",
       "Mid-level         Contract              5\n",
       "                  Freelance             5\n",
       "                  Part-Time             3\n",
       "Senior level      Freelance             3\n",
       "Entry level       Contract              2\n",
       "Name: count, dtype: int64"
      ]
     },
     "execution_count": 52,
     "metadata": {},
     "output_type": "execute_result"
    }
   ],
   "source": [
    "rel_lvlex_emtyp = df.groupby(\"experience_level\")[\"employment_type\"].value_counts()\n",
    "rel_lvlex_emtyp = rel_lvlex_emtyp.sort_values(ascending=False)\n",
    "rel_lvlex_emtyp.head(10)"
   ]
  },
  {
   "cell_type": "markdown",
   "id": "a1c7bd8f",
   "metadata": {},
   "source": [
    "9.\t¿Cuál es el salario promedio para diferentes tipos de empleo en empresas de diferentes tamaños?"
   ]
  },
  {
   "cell_type": "code",
   "execution_count": 60,
   "id": "dd5ec698",
   "metadata": {},
   "outputs": [
    {
     "data": {
      "text/plain": [
       "employment_type  company_size  \n",
       "Contract         Large company     185000.0\n",
       "                 Medium company     58242.0\n",
       "                 Small company     132875.0\n",
       "Freelance        Large company      20000.0\n",
       "                 Medium company     61511.0\n",
       "                 Small company      47631.0\n",
       "Full-Time        Large company     119376.0\n",
       "                 Medium company    143521.0\n",
       "                 Small company      79236.0\n",
       "Part-Time        Large company      32724.0\n",
       "                 Medium company     47553.0\n",
       "                 Small company      39661.0\n",
       "Name: salary_in_usd, dtype: float64"
      ]
     },
     "execution_count": 60,
     "metadata": {},
     "output_type": "execute_result"
    }
   ],
   "source": [
    "sal_prom_emptyp_sizcomp = df.groupby([\"employment_type\", \"company_size\"])[\"salary_in_usd\"].mean()\n",
    "sal_prom_emptyp_sizcomp.round()"
   ]
  },
  {
   "cell_type": "markdown",
   "id": "91a43519",
   "metadata": {},
   "source": [
    "10. ¿Cuál es la distribución de salarios para diferentes títulos de trabajo en la industria de la ciencia de datos?"
   ]
  },
  {
   "cell_type": "code",
   "execution_count": 70,
   "id": "f68d62e9",
   "metadata": {},
   "outputs": [
    {
     "data": {
      "text/plain": [
       "job_title\n",
       "Data Engineer                148497164\n",
       "Data Scientist               118330603\n",
       "Data Analyst                  66534331\n",
       "Machine Learning Engineer     44705620\n",
       "Data Architect                16333091\n",
       "Name: salary_in_usd, dtype: int64"
      ]
     },
     "execution_count": 70,
     "metadata": {},
     "output_type": "execute_result"
    }
   ],
   "source": [
    "sal_job = df.groupby(\"job_title\")[\"salary_in_usd\"].sum()\n",
    "sal_job = sal_job.sort_values(ascending=False)\n",
    "sal_job.head(5)"
   ]
  },
  {
   "cell_type": "markdown",
   "id": "a4e9fb2c",
   "metadata": {},
   "source": [
    "# CONCLUSION\n",
    "\n",
    "Variación por Nivel de Experiencia:\n",
    "\n",
    "Los salarios en ciencia de datos tienden a aumentar con el nivel de experiencia. Los profesionales con niveles más altos de experiencia, como Expertos y Niveles Senior, tienden a ganar salarios significativamente más altos en comparación con aquellos en niveles de entrada y niveles medios.\n",
    "Impacto del Tipo de Empleo:\n",
    "\n",
    "Existe una diferencia significativa en los salarios según el tipo de empleo. Aquellos empleados a tiempo completo suelen tener salarios más altos en comparación con empleados contratados, a tiempo parcial o freelance.\n",
    "\n",
    "Asociación con el Título del Trabajo:\n",
    "\n",
    "Algunos títulos de trabajo en ciencia de datos están asociados con salarios más altos que otros. Por ejemplo, roles como Ingeniero de Datos y Científico de Datos tienden a tener salarios más altos en comparación con roles como Analista de Datos o Arquitecto de Datos.\n",
    "\n",
    "Diferencias entre Tamaños de Empresa:\n",
    "\n",
    "Los salarios también varían según el tamaño de la empresa. Empleados en empresas más grandes tienden a ganar más en promedio en comparación con aquellos en empresas medianas o pequeñas.\n",
    "\n",
    "Tendencias Geográficas:\n",
    "\n",
    "Estados Unidos es el país con la mayor concentración de empresas que contratan profesionales de ciencia de datos, seguido por el Reino Unido, Canadá, España e India. Esto sugiere que estos países ofrecen un mayor número de oportunidades laborales en términos absolutos.\n",
    "\n",
    "Recomendaciones:\n",
    "\n",
    "Los profesionales de ciencia de datos pueden considerar buscar oportunidades en empresas más grandes y en roles que requieran niveles más altos de experiencia para maximizar sus ingresos.\n",
    "Explorar oportunidades en países con una alta concentración de empresas que contratan profesionales de ciencia de datos puede ser beneficioso para aquellos que buscan oportunidades laborales globales y salarios competitivos.\n",
    "\n",
    "\n",
    "En resumen, los salarios en ciencia de datos están influenciados por una variedad de factores, incluido el nivel de experiencia, el tipo de empleo, el título del trabajo, el tamaño de la empresa y la ubicación geográfica. Entender estas tendencias puede ayudar a los profesionales de ciencia de datos a tomar decisiones informadas sobre su carrera y maximizar su potencial salarial."
   ]
  },
  {
   "cell_type": "markdown",
   "id": "06706e45",
   "metadata": {},
   "source": [
    "# EXPORTACION DE DATOS"
   ]
  },
  {
   "cell_type": "code",
   "execution_count": 66,
   "id": "c2654a74",
   "metadata": {},
   "outputs": [],
   "source": [
    "df.to_csv('ds_salaries.csv', index=False)"
   ]
  }
 ],
 "metadata": {
  "kernelspec": {
   "display_name": "Python 3 (ipykernel)",
   "language": "python",
   "name": "python3"
  },
  "language_info": {
   "codemirror_mode": {
    "name": "ipython",
    "version": 3
   },
   "file_extension": ".py",
   "mimetype": "text/x-python",
   "name": "python",
   "nbconvert_exporter": "python",
   "pygments_lexer": "ipython3",
   "version": "3.11.5"
  }
 },
 "nbformat": 4,
 "nbformat_minor": 5
}
